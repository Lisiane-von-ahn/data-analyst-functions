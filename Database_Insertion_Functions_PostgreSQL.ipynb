{
 "cells": [
  {
   "cell_type": "markdown",
   "metadata": {},
   "source": [
    "# Database Insertion Functions for PostgreSQL\n",
    "\n",
    "This notebook contains Python functions used to insert data into a PostgreSQL database. The functions are designed to automate the insertion of different entities (sites, formations, and modules) into respective database tables. The goal is to handle large folder structures, identify key elements, and populate the database efficiently.\n",
    "\n",
    "Created by Lisiane Von Ahn\n",
    "\n",
    "\n",
    "Libraries:\n",
    "\n",
    "The following Python libraries and modules are used in this notebook:\n",
    "\n",
    "    psycopg2: A PostgreSQL adapter for Python to handle database connections and queries.\n",
    "        Install it using: pip install psycopg2\n",
    "    os: A standard Python library for interacting with the file system to traverse directories.\n",
    "    connection: A custom module to establish a connection with the PostgreSQL database.\n",
    "    util.common: A custom module for utility functions like normaliserModule and formaterModule used to standardize the module names before insertion.\n"
   ]
  },
  {
   "cell_type": "markdown",
   "metadata": {},
   "source": [
    "\n",
    "## 1. Function: insert_module\n"
   ]
  },
  {
   "cell_type": "code",
   "execution_count": null,
   "metadata": {},
   "outputs": [],
   "source": [
    "def insert_module(module_name):\n",
    "    \"\"\"\n",
    "    Inserts a new module into the 'modules' table of the database if it does not already exist.\n",
    "\n",
    "    Parameters:\n",
    "    module_name (str): The name of the module to be inserted.\n",
    "\n",
    "    Returns:\n",
    "    None\n",
    "    \"\"\"\n",
    "\n",
    "    # Step 1: Normalize and format the module name\n",
    "    module_name = normaliserModule(formaterModule(module_name))\n",
    "    \n",
    "    # Step 2: Establish a connection to the database\n",
    "    conn = connection.get_connection()\n",
    "    \n",
    "    if conn is not None:\n",
    "        try:\n",
    "            # Step 3: Check if the module already exists\n",
    "            with conn.cursor() as c:\n",
    "                c.execute('SELECT id FROM modules WHERE name = %s', (module_name,))\n",
    "                result = c.fetchone()\n",
    "                \n",
    "                # Step 4: If the module does not exist, insert it\n",
    "                if result is None:\n",
    "                    c.execute('INSERT INTO modules (name) VALUES (%s) RETURNING id', (module_name,))\n",
    "                    new_id = c.fetchone()[0]\n",
    "                    conn.commit()\n",
    "                    print(f\"Inserted module '{module_name}' with ID {new_id}\")\n",
    "                else:\n",
    "                    print(f\"Module '{module_name}' already exists with ID {result[0]}\")\n",
    "        \n",
    "        # Step 5: Handle any errors and rollback in case of failure\n",
    "        except (Exception, psycopg2.Error) as error:\n",
    "            print(f\"Error while inserting module: {error}\")\n",
    "            conn.rollback()\n",
    "        \n",
    "        # Step 6: Close the database connection\n",
    "        finally:\n",
    "            conn.close()\n"
   ]
  },
  {
   "cell_type": "markdown",
   "metadata": {},
   "source": [
    "## 2. Function: insert_formation"
   ]
  },
  {
   "cell_type": "code",
   "execution_count": null,
   "metadata": {},
   "outputs": [],
   "source": [
    "def insert_formation(formation_name):\n",
    "    \"\"\"\n",
    "    Inserts a new formation into the 'formations' table of the database if it does not already exist.\n",
    "\n",
    "    Parameters:\n",
    "    formation_name (str): The name of the formation to be inserted.\n",
    "\n",
    "    Returns:\n",
    "    None\n",
    "    \"\"\"\n",
    "    \n",
    "    # Step 1: Establish a connection to the database\n",
    "    conn = connection.get_connection()\n",
    "    \n",
    "    if conn is not None:\n",
    "        try:\n",
    "            # Step 2: Check if the formation already exists\n",
    "            with conn.cursor() as c:\n",
    "                c.execute('SELECT id FROM formations WHERE name = %s', (formation_name,))\n",
    "                result = c.fetchone()\n",
    "                \n",
    "                # Step 3: If the formation does not exist, insert it\n",
    "                if result is None:\n",
    "                    c.execute('INSERT INTO formations (name) VALUES (%s) RETURNING id', (formation_name,))\n",
    "                    new_id = c.fetchone()[0]\n",
    "                    conn.commit()\n",
    "                    print(f\"Inserted formation '{formation_name}' with ID {new_id}\")\n",
    "                else:\n",
    "                    print(f\"Formation '{formation_name}' already exists with ID {result[0]}\")\n",
    "        \n",
    "        # Step 4: Handle any errors and rollback in case of failure\n",
    "        except (Exception, psycopg2.Error) as error:\n",
    "            print(f\"Error while inserting formation: {error}\")\n",
    "            conn.rollback()\n",
    "        \n",
    "        # Step 5: Close the database connection\n",
    "        finally:\n",
    "            conn.close()\n"
   ]
  },
  {
   "cell_type": "markdown",
   "metadata": {},
   "source": [
    "## 3. Function: insert_sites_formations_modules"
   ]
  },
  {
   "cell_type": "code",
   "execution_count": null,
   "metadata": {},
   "outputs": [],
   "source": [
    "def insert_sites_formations_modules(base_folder):\n",
    "    \"\"\"\n",
    "    Recursively traverses the folder structure to insert sites, formations, and modules into the database.\n",
    "\n",
    "    Parameters:\n",
    "    base_folder (str): The path to the base folder containing sites, formations, and modules.\n",
    "\n",
    "    Returns:\n",
    "    None\n",
    "    \"\"\"\n",
    "    \n",
    "    # Step 1: Verify if the base folder exists and is a directory\n",
    "    if os.path.exists(base_folder) and os.path.isdir(base_folder):\n",
    "        \n",
    "        # Step 2: Process each site folder within the base folder\n",
    "        site_names = [name for name in os.listdir(base_folder) if os.path.isdir(os.path.join(base_folder, name))]\n",
    "        for site_name in site_names:\n",
    "            print(\"Checking site\", site_name)\n",
    "            site_folder = os.path.join(base_folder, site_name)\n",
    "            \n",
    "            # Step 3: Process each formation folder within the site folder\n",
    "            formation_names = [name for name in os.listdir(site_folder) if os.path.isdir(os.path.join(site_folder, name))]\n",
    "            for formation_name in formation_names:\n",
    "                print(\"Checking formation\", formation_name)\n",
    "                insert_formation(formation_name)\n",
    "                formation_folder = os.path.join(site_folder, formation_name)\n",
    "                \n",
    "                # Step 4: Process each module folder within the formation's \"Modules\" subfolder\n",
    "                years_names = [name for name in os.listdir(formation_folder) if os.path.isdir(os.path.join(formation_folder, name))]\n",
    "                for years_name in years_names:\n",
    "                    print(\"Checking module\", years_name)\n",
    "                    years_folder = os.path.join(formation_folder, years_name) + \"/Modules\"\n",
    "                    module_names = [name for name in os.listdir(years_folder) if os.path.isdir(os.path.join(years_folder, name))]\n",
    "                    for module_name in module_names:\n",
    "                        print(\"Checking module\", module_name)\n",
    "                        insert_module(module_name)\n",
    "\n",
    "# Step 5: Specify the base folder path and call the function\n",
    "sites_folder_path = \"./Sites\"\n",
    "insert_sites_formations_modules(sites_folder_path)\n"
   ]
  },
  {
   "cell_type": "markdown",
   "metadata": {},
   "source": [
    "Example of How to Run the Code:\n",
    "\n",
    "    Run the Notebook: Make sure the database is properly set up, and the connection module (connection.py) points to the correct PostgreSQL instance.\n",
    "    Directory Structure: Have your folder structure ready with Sites, Formations, and Modules subfolders to test the recursive insertion.\n",
    "    Call the Functions: Start by calling insert_sites_formations_modules with the path to the base folder containing the directory structure."
   ]
  },
  {
   "cell_type": "markdown",
   "metadata": {},
   "source": [
    "Summary:\n",
    "\n",
    "This notebook demonstrates the following key skills:\n",
    "\n",
    "    Efficient data insertion into a PostgreSQL database.\n",
    "    Folder traversal and handling dynamic structures.\n",
    "    Error handling and transaction management.\n",
    "    Modular and reusable code for database operations."
   ]
  }
 ],
 "metadata": {
  "kernelspec": {
   "display_name": ".venv",
   "language": "python",
   "name": "python3"
  },
  "language_info": {
   "codemirror_mode": {
    "name": "ipython",
    "version": 3
   },
   "file_extension": ".py",
   "mimetype": "text/x-python",
   "name": "python",
   "nbconvert_exporter": "python",
   "pygments_lexer": "ipython3",
   "version": "3.10.12"
  }
 },
 "nbformat": 4,
 "nbformat_minor": 2
}
